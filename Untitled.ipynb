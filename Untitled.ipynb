{
 "cells": [
  {
   "cell_type": "code",
   "execution_count": 1,
   "metadata": {},
   "outputs": [],
   "source": [
    "import aubio\n",
    "import numpy as np\n",
    "import matplotlib.pyplot as plt"
   ]
  },
  {
   "cell_type": "code",
   "execution_count": 2,
   "metadata": {},
   "outputs": [],
   "source": [
    "# aubio.slice_source_at_stamps('lotus_eater.mp3', [44100 * 165], [44100 * 198], samplerate=44100)"
   ]
  },
  {
   "cell_type": "code",
   "execution_count": 3,
   "metadata": {},
   "outputs": [],
   "source": [
    "src = aubio.source('lotus_eater_0165.000000.wav')\n",
    "pitch_o = aubio.pitch(\"yin\", 512, src.hop_size, 0)\n",
    "pitches = []\n",
    "confs = []\n",
    "while True:\n",
    "    samples, read = src()\n",
    "    pitch = pitch_o(samples)[0]\n",
    "    pitches += [pitch]\n",
    "    confs += [pitch_o.get_confidence()]\n",
    "    if read < src.hop_size: break"
   ]
  },
  {
   "cell_type": "code",
   "execution_count": 4,
   "metadata": {},
   "outputs": [
    {
     "data": {
      "text/plain": [
       "(array([0.20043051, 0.53994977, 0.        , ..., 0.        , 0.33099473,\n",
       "        0.        ]), 2843)"
      ]
     },
     "execution_count": 4,
     "metadata": {},
     "output_type": "execute_result"
    }
   ],
   "source": [
    "c = np.array(confs)\n",
    "c, len(c)"
   ]
  },
  {
   "cell_type": "code",
   "execution_count": 5,
   "metadata": {},
   "outputs": [
    {
     "data": {
      "text/plain": [
       "(array([0., 0., 0., ..., 0., 0., 0.], dtype=float32), 2843)"
      ]
     },
     "execution_count": 5,
     "metadata": {},
     "output_type": "execute_result"
    }
   ],
   "source": [
    "p = np.array(pitches)\n",
    "p[c < 0.8] = 0\n",
    "p, len(p)"
   ]
  },
  {
   "cell_type": "code",
   "execution_count": 6,
   "metadata": {},
   "outputs": [
    {
     "data": {
      "text/plain": [
       "[<matplotlib.lines.Line2D at 0x10f1a48d0>]"
      ]
     },
     "execution_count": 6,
     "metadata": {},
     "output_type": "execute_result"
    },
    {
     "data": {
      "image/png": "[encoded data removed]",
      "text/plain": [
       "<Figure size 432x288 with 1 Axes>"
      ]
     },
     "metadata": {
      "needs_background": "light"
     },
     "output_type": "display_data"
    }
   ],
   "source": [
    "# diffs indicate start and stops\n",
    "# clean noise, beeps are about 88k\n",
    "freq = (p / 1000).round().astype(int)\n",
    "dfreq = np.diff(freq)\n",
    "plt.plot(freq)"
   ]
  },
  {
   "cell_type": "code",
   "execution_count": 9,
   "metadata": {},
   "outputs": [
    {
     "data": {
      "text/plain": [
       "(array([   4,   24,   35,   55,   76,   86,  107,  117,  138,  148,  179,\n",
       "         190,  200,  221,  231,  241,  283,  303,  314,  324,  355,  365,\n",
       "         386,  407,  417,  428,  479,  489,  510,  541,  551,  572,  582,\n",
       "         603,  614,  634,  644,  665,  675,  717,  738,  748,  768,  789,\n",
       "         810,  831,  862,  882,  913,  955,  965,  986, 1006, 1048, 1079,\n",
       "        1089, 1099, 1110, 1130, 1141, 1161, 1182, 1203, 1223, 1234, 1244,\n",
       "        1265, 1275, 1296, 1306, 1327, 1337, 1389, 1399, 1409, 1430, 1451,\n",
       "        1461, 1482, 1492, 1513, 1533, 1544, 1554, 1575, 1626, 1647, 1668,\n",
       "        1699, 1709, 1719, 1740, 1781, 1792, 1812, 1844, 1854, 1864, 1874,\n",
       "        1895, 1905, 1926, 1947, 1957, 1978, 1999, 2009, 2019, 2030, 2071,\n",
       "        2092, 2112, 2143, 2164, 2205, 2226, 2257, 2267, 2298, 2319, 2329,\n",
       "        2350, 2402, 2412, 2422, 2443, 2464, 2495, 2505, 2515, 2526, 2536]),\n",
       " array([15,  5, 15,  5,  5, 15,  5,  5,  5, 15,  5,  5,  5,  5,  5,  5, 15,\n",
       "         5,  5, 15,  5,  5, 15,  5,  5, 15,  5, 16, 15,  5,  5,  5, 16,  5,\n",
       "         4,  5, 16,  5,  5, 15,  4, 15,  5, 15, 15, 15, 15, 15,  5,  4,  5,\n",
       "        15,  5, 15,  4,  5,  5,  4,  5, 15,  5,  5,  5,  5,  5,  5,  4, 15,\n",
       "         4, 15,  4, 15,  5,  5, 16,  5,  5,  5,  5, 15,  5,  5,  4,  5, 15,\n",
       "        16, 15, 15,  5,  5, 16,  5,  5, 15, 16,  4,  5,  5,  5,  5,  5, 15,\n",
       "         5, 15,  5,  4,  5,  5,  4, 15, 15, 15, 15,  5, 15, 15,  5, 15, 15,\n",
       "         5, 15, 15,  4,  5, 15, 15, 15,  4,  5,  5,  4, 15]))"
      ]
     },
     "execution_count": 9,
     "metadata": {},
     "output_type": "execute_result"
    }
   ],
   "source": [
    "# get starting points from the 1's (upward change)\n",
    "# get ending points from the -1's (downward change)\n",
    "# runs are the difference\n",
    "starts = np.where(dfreq == 1)[0]\n",
    "ends = np.where(dfreq == -1)[0]\n",
    "runs = ends - starts\n",
    "starts, runs"
   ]
  },
  {
   "cell_type": "code",
   "execution_count": 10,
   "metadata": {},
   "outputs": [
    {
     "data": {
      "text/plain": [
       "array([ 5,  6,  5, 16,  5,  6,  5, 16,  5, 16,  6,  5, 16,  5,  5, 37,  5,\n",
       "        6,  5, 16,  5, 16,  6,  5,  6, 36,  5,  5, 16,  5, 16,  5,  5,  6,\n",
       "       16,  5,  5,  5, 37,  6,  6,  5, 16,  6,  6, 16,  5, 16, 37,  6, 16,\n",
       "        5, 37, 16,  6,  5,  6, 16,  6,  5, 16, 16, 15,  6,  5, 16,  6,  6,\n",
       "        6,  6,  6, 37,  5,  5,  5, 16,  5, 16,  5,  6, 15,  6,  6, 16, 36,\n",
       "        5,  6, 16,  5,  5,  5, 36,  6,  5, 16,  6,  5,  5, 16,  5, 16,  6,\n",
       "        5,  6, 16,  6,  5,  6, 37,  6,  5, 16,  6, 36,  6, 16,  5, 16,  6,\n",
       "        5,  6, 37,  6,  5,  6,  6, 16,  6,  5,  6,  6,  5])"
      ]
     },
     "execution_count": 10,
     "metadata": {},
     "output_type": "execute_result"
    }
   ],
   "source": [
    "# spaces are gap between starts minus their runs\n",
    "spaces = np.append(np.diff(starts) - runs[:-1], 5)\n",
    "spaces"
   ]
  },
  {
   "cell_type": "code",
   "execution_count": 11,
   "metadata": {},
   "outputs": [
    {
     "data": {
      "text/plain": [
       "(array(['-', '.', '-', '.', '.', '-', '.', '.', '.', '-', '.', '.', '.',\n",
       "        '.', '.', '.', '-', '.', '.', '-', '.', '.', '-', '.', '.', '-',\n",
       "        '.', '-', '-', '.', '.', '.', '-', '.', '.', '.', '-', '.', '.',\n",
       "        '-', '.', '-', '.', '-', '-', '-', '-', '-', '.', '.', '.', '-',\n",
       "        '.', '-', '.', '.', '.', '.', '.', '-', '.', '.', '.', '.', '.',\n",
       "        '.', '.', '-', '.', '-', '.', '-', '.', '.', '-', '.', '.', '.',\n",
       "        '.', '-', '.', '.', '.', '.', '-', '-', '-', '-', '.', '.', '-',\n",
       "        '.', '.', '-', '-', '.', '.', '.', '.', '.', '.', '-', '.', '-',\n",
       "        '.', '.', '.', '.', '.', '-', '-', '-', '-', '.', '-', '-', '.',\n",
       "        '-', '-', '.', '-', '-', '.', '.', '-', '-', '-', '.', '.', '.',\n",
       "        '.', '-'], dtype='<U1'),\n",
       " array(['', '', '', ' ', '', '', '', ' ', '', ' ', '', '', ' ', '', '',\n",
       "        '  ', '', '', '', ' ', '', ' ', '', '', '', '  ', '', '', ' ', '',\n",
       "        ' ', '', '', '', ' ', '', '', '', '  ', '', '', '', ' ', '', '',\n",
       "        ' ', '', ' ', '  ', '', ' ', '', '  ', ' ', '', '', '', ' ', '',\n",
       "        '', ' ', ' ', ' ', '', '', ' ', '', '', '', '', '', '  ', '', '',\n",
       "        '', ' ', '', ' ', '', '', ' ', '', '', ' ', '  ', '', '', ' ', '',\n",
       "        '', '', '  ', '', '', ' ', '', '', '', ' ', '', ' ', '', '', '',\n",
       "        ' ', '', '', '', '  ', '', '', ' ', '', '  ', '', ' ', '', ' ', '',\n",
       "        '', '', '  ', '', '', '', '', ' ', '', '', '', '', ''], dtype='<U2'))"
      ]
     },
     "execution_count": 11,
     "metadata": {},
     "output_type": "execute_result"
    }
   ],
   "source": [
    "# convert to morse\n",
    "r_repr = np.select([runs <= 6], ['.'], ['-'])\n",
    "s_repr = np.select([spaces <= 6, spaces <= 16], ['', ' '], ['  '])\n",
    "r_repr, s_repr"
   ]
  },
  {
   "cell_type": "code",
   "execution_count": 12,
   "metadata": {},
   "outputs": [
    {
     "data": {
      "text/plain": [
       "'-.-. .-.. .- ... ...  -..- .. -..-  .-- .. .-.. .-..  -.-. --- -- .  .. -.  - .... .-. . . ... .-.-.-  ..-. .. .-. ... -  --- ..-.  .-- .... .. -.-. ....  --- -.  -- .- -.--  ..--- ....-'"
      ]
     },
     "execution_count": 12,
     "metadata": {},
     "output_type": "execute_result"
    }
   ],
   "source": [
    "# interlace spaces and runs streams\n",
    "morse = ''.join(np.stack([r_repr, s_repr], axis=1).flat)\n",
    "morse"
   ]
  },
  {
   "cell_type": "code",
   "execution_count": 14,
   "metadata": {},
   "outputs": [
    {
     "data": {
      "text/plain": [
       "'CLASS XIX WILL COME IN THREES. FIRST OF WHICH ON MAY 24'"
      ]
     },
     "execution_count": 14,
     "metadata": {},
     "output_type": "execute_result"
    }
   ],
   "source": [
    "LOOKUP = {\n",
    "    '': ' ',\n",
    "    '.-': 'A',\n",
    "    '-...': 'B',\n",
    "    '-.-.': 'C',\n",
    "    '-..': 'D',\n",
    "    '.': 'E',\n",
    "    '..-.': 'F',\n",
    "    '--.': 'G',\n",
    "    '....': 'H',\n",
    "    '..': 'I',\n",
    "    '.---': 'J',\n",
    "    '-.-': 'K',\n",
    "    '.-..': 'L',\n",
    "    '--': 'M',\n",
    "    '-.': 'N',\n",
    "    '---': 'O',\n",
    "    '.--.': 'P',\n",
    "    '--.-': 'Q',\n",
    "    '.-.': 'R',\n",
    "    '...': 'S',\n",
    "    '-': 'T',\n",
    "    '..-': 'U',\n",
    "    '...-': 'V',\n",
    "    '.--': 'W',\n",
    "    '-..-': 'X',\n",
    "    '-.--': 'Y',\n",
    "    '--..': 'Z',\n",
    "    '.----': '1',\n",
    "    '..---': '2',\n",
    "    '...--': '3',\n",
    "    '....-': '4',\n",
    "    '.....': '5',\n",
    "    '-....': '6',\n",
    "    '--...': '7',\n",
    "    '---..': '8',\n",
    "    '----.': '9',\n",
    "    '-----': '0',\n",
    "    '--..--': ', ',\n",
    "    '.-.-.-': '.',\n",
    "    '..--..': '?',\n",
    "    '-..-.': '/',\n",
    "    '-....-': '-',\n",
    "    '-.--.': '(',\n",
    "    '-.--.-': ')'\n",
    "}\n",
    "\n",
    "''.join(LOOKUP[code] for code in morse.split(' '))"
   ]
  }
 ],
 "metadata": {
  "kernelspec": {
   "display_name": "Python 3",
   "language": "python",
   "name": "python3"
  },
  "language_info": {
   "codemirror_mode": {
    "name": "ipython",
    "version": 3
   },
   "file_extension": ".py",
   "mimetype": "text/x-python",
   "name": "python",
   "nbconvert_exporter": "python",
   "pygments_lexer": "ipython3",
   "version": "3.7.1"
  }
 },
 "nbformat": 4,
 "nbformat_minor": 2
}
